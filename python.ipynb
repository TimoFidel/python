{
 "cells": [
  {
   "cell_type": "code",
   "execution_count": 1,
   "metadata": {},
   "outputs": [],
   "source": [
    "array1=[1,2,3,4]\n",
    "array2=[5,6]"
   ]
  },
  {
   "cell_type": "code",
   "execution_count": 3,
   "metadata": {},
   "outputs": [
    {
     "name": "stdout",
     "output_type": "stream",
     "text": [
      "[1, 2, 3, 4, 5, 6]\n"
     ]
    }
   ],
   "source": [
    "#1.Concatenation of two arrays\n",
    "\n",
    "newarr=array1+array2\n",
    "print(newarr)"
   ]
  },
  {
   "cell_type": "code",
   "execution_count": 6,
   "metadata": {},
   "outputs": [
    {
     "name": "stdout",
     "output_type": "stream",
     "text": [
      "[1, 2, 3]\n",
      "[2, 3, 4]\n",
      "[2]\n"
     ]
    }
   ],
   "source": [
    "#2. Slicing \n",
    "\n",
    "newarray=array1[:3]\n",
    "print(newarray)\n",
    "newarray=array1[1:]\n",
    "print(newarray)\n",
    "newarray=array1[1:2]\n",
    "print(newarray)"
   ]
  },
  {
   "cell_type": "code",
   "execution_count": 10,
   "metadata": {},
   "outputs": [
    {
     "name": "stdout",
     "output_type": "stream",
     "text": [
      "[4, 3, 2, 1]\n"
     ]
    }
   ],
   "source": [
    "#3.reversing an array\n",
    "\n",
    "new_array=array1[::-1]\n",
    "print(new_array)\n"
   ]
  },
  {
   "cell_type": "code",
   "execution_count": 13,
   "metadata": {},
   "outputs": [
    {
     "name": "stdout",
     "output_type": "stream",
     "text": [
      "[2, 3, 4]\n"
     ]
    }
   ],
   "source": [
    "#4.deleting element in array\n",
    "\n",
    "del array1[0]\n",
    "print(array1)"
   ]
  },
  {
   "cell_type": "code",
   "execution_count": 14,
   "metadata": {},
   "outputs": [
    {
     "name": "stdout",
     "output_type": "stream",
     "text": [
      "[2, 3]\n"
     ]
    }
   ],
   "source": [
    "array1.remove(4)\n",
    "print(array1)"
   ]
  },
  {
   "cell_type": "code",
   "execution_count": 17,
   "metadata": {},
   "outputs": [
    {
     "name": "stdout",
     "output_type": "stream",
     "text": [
      "[2, 3]\n",
      "[1, 2, 3]\n",
      "[1, 2, 3, 4]\n"
     ]
    }
   ],
   "source": [
    "#5.Insert an item at a given position\n",
    "\n",
    "print(array1)\n",
    "array1.insert(0,1)\n",
    "print(array1)\n",
    "array1.insert(3,4)\n",
    "print(array1)"
   ]
  },
  {
   "cell_type": "code",
   "execution_count": 19,
   "metadata": {},
   "outputs": [
    {
     "name": "stdout",
     "output_type": "stream",
     "text": [
      "[1, 2, 3, 4]\n",
      "[]\n"
     ]
    }
   ],
   "source": [
    "#6.remove all items from the list \n",
    "\n",
    "new_array=array1\n",
    "print(new_array)\n",
    "new_array.clear()\n",
    "print(new_array)"
   ]
  },
  {
   "cell_type": "code",
   "execution_count": 21,
   "metadata": {},
   "outputs": [
    {
     "name": "stdout",
     "output_type": "stream",
     "text": [
      "2\n",
      "1\n"
     ]
    }
   ],
   "source": [
    "#7.count number of times item appears\n",
    "\n",
    "new_array=[1,2,3,2,4,5,3]\n",
    "print(new_array.count(2))\n",
    "print(new_array.count(4))"
   ]
  },
  {
   "cell_type": "code",
   "execution_count": 27,
   "metadata": {},
   "outputs": [
    {
     "name": "stdout",
     "output_type": "stream",
     "text": [
      "[1, 2, 3, 4, 8]\n",
      "[8, 4, 3, 2, 1]\n",
      "['deer', 'elephant', 'fox']\n",
      "['fox', 'deer', 'elephant']\n",
      "['elephant', 'deer', 'fox']\n"
     ]
    }
   ],
   "source": [
    "#8.sort the item of the list\n",
    "\n",
    "array1=[3,8,2,4,1]\n",
    "array2=[\"deer\",\"fox\",\"elephant\"]\n",
    "array1.sort()\n",
    "print(array1)\n",
    "array1.sort(reverse=True)\n",
    "print(array1)\n",
    "array2.sort()\n",
    "print(array2)\n",
    "array2.sort(key=len)\n",
    "print(array2)\n",
    "array2.sort(key=len,reverse=True)\n",
    "print(array2)\n"
   ]
  },
  {
   "cell_type": "code",
   "execution_count": 2,
   "metadata": {},
   "outputs": [
    {
     "name": "stdout",
     "output_type": "stream",
     "text": [
      "[1, 2, 3, 4]\n",
      "[1, 2, 3, 4]\n"
     ]
    }
   ],
   "source": [
    "#9.Copy\n",
    "\n",
    "#without Copy()\n",
    "a=[1,2,3]\n",
    "b=a\n",
    "b.append(4)\n",
    "print(a)\n",
    "print(b)"
   ]
  },
  {
   "cell_type": "code",
   "execution_count": 6,
   "metadata": {},
   "outputs": [
    {
     "name": "stdout",
     "output_type": "stream",
     "text": [
      "[1, 2, 3, 4]\n",
      "[1, 2, 3, 4, 5]\n"
     ]
    }
   ],
   "source": [
    "# if you do like array1=array2\n",
    "#Then any updates you do to array1 will affect array2\n",
    "#with copy()\n",
    "b=a.copy()\n",
    "b.append(5)\n",
    "print(a)\n",
    "print(b)"
   ]
  },
  {
   "cell_type": "code",
   "execution_count": 11,
   "metadata": {},
   "outputs": [
    {
     "name": "stdout",
     "output_type": "stream",
     "text": [
      "['b', 'e', 'e']\n",
      "['hi', 'hello', 'world']\n",
      "['hi', 'world', 'hello']\n"
     ]
    }
   ],
   "source": [
    "# 10.list() constructor\n",
    "\n",
    "#String\n",
    "a=\"bee\"\n",
    "print(list(a))\n",
    "#Tuple\n",
    "a=(\"hi\",\"hello\",\"world\")\n",
    "print(list(a))\n",
    "#set\n",
    "a={\"hi\",\"hello\",\"world\"}\n",
    "print(list(a))"
   ]
  },
  {
   "cell_type": "code",
   "execution_count": 13,
   "metadata": {},
   "outputs": [
    {
     "name": "stdout",
     "output_type": "stream",
     "text": [
      "maximum in a  fox\n",
      "minimum in a deer\n",
      "min: [1, 2, 3, 4]\n",
      "max: [1, 2, 3, 4, 5]\n"
     ]
    }
   ],
   "source": [
    "#11.max() and min()\n",
    "\n",
    "a=[\"deer\",\"fox\",\"elephant\"]\n",
    "print(\"maximum in a \",max(a))\n",
    "print(\"minimum in a\",min(a))\n",
    "a=[1,2,3,4,5,]\n",
    "b=[1,2,3,4,]\n",
    "print(\"min:\",min(a,b))\n",
    "print(\"max:\",max(a,b))"
   ]
  },
  {
   "cell_type": "code",
   "execution_count": 15,
   "metadata": {},
   "outputs": [
    {
     "name": "stdout",
     "output_type": "stream",
     "text": [
      "[0, 1, 2, 3, 4, 5, 6, 7, 8, 9]\n",
      "[2, 3, 4, 5, 6, 7, 8, 9, 10, 11]\n",
      "[1, 3, 5, 7, 9, 11, 13]\n"
     ]
    }
   ],
   "source": [
    "#12.range()\n",
    "\n",
    "print(list(range(10)))\n",
    "print(list(range(2,12)))\n",
    "print(list(range(1,15,2)))"
   ]
  },
  {
   "cell_type": "code",
   "execution_count": 17,
   "metadata": {},
   "outputs": [
    {
     "name": "stdout",
     "output_type": "stream",
     "text": [
      "15\n"
     ]
    }
   ],
   "source": [
    "#13.sum()\n",
    "\n",
    "a=[1,2,3,4,5]\n",
    "print(sum(a))"
   ]
  },
  {
   "cell_type": "code",
   "execution_count": 21,
   "metadata": {},
   "outputs": [
    {
     "name": "stdout",
     "output_type": "stream",
     "text": [
      "{'k1': 0, 'k2': 0, 'k3': 0, 'k4': 0}\n"
     ]
    }
   ],
   "source": [
    "#DICTIONARY\n",
    "#14.fromkeys()\n",
    "x=('k1','k2','k3','k4')\n",
    "y=0\n",
    "a=dict.fromkeys(x,y)\n",
    "print(a)"
   ]
  },
  {
   "cell_type": "code",
   "execution_count": 72,
   "metadata": {},
   "outputs": [
    {
     "name": "stdout",
     "output_type": "stream",
     "text": [
      "apple\n"
     ]
    }
   ],
   "source": [
    "#15.get()\n",
    "\n",
    "a={\n",
    "    \"car\":\"ford\",\n",
    "    \"fruit\":\"apple\",\n",
    "    \"vegetable\":\"brinjal\"\n",
    "}\n",
    "print(a.get(\"fruit\"))"
   ]
  },
  {
   "cell_type": "code",
   "execution_count": 25,
   "metadata": {},
   "outputs": [
    {
     "name": "stdout",
     "output_type": "stream",
     "text": [
      "dict_items([('car', 'ford'), ('fruit', 'apple'), ('vegetable', 'brinjal')])\n"
     ]
    }
   ],
   "source": [
    "#16.items()\n",
    "#returns the key value pairs\n",
    "\n",
    "x=a.items()\n",
    "print(x)"
   ]
  },
  {
   "cell_type": "code",
   "execution_count": 26,
   "metadata": {},
   "outputs": [
    {
     "name": "stdout",
     "output_type": "stream",
     "text": [
      "dict_items([('car', 'ford'), ('fruit', 'banana'), ('vegetable', 'brinjal')])\n"
     ]
    }
   ],
   "source": [
    "a[\"fruit\"]=\"banana\"\n",
    "print(x)"
   ]
  },
  {
   "cell_type": "code",
   "execution_count": 28,
   "metadata": {},
   "outputs": [
    {
     "name": "stdout",
     "output_type": "stream",
     "text": [
      "dict_keys(['car', 'fruit', 'vegetable'])\n"
     ]
    }
   ],
   "source": [
    "#17.keys()\n",
    "#return the keys\n",
    "\n",
    "x=a.keys()\n",
    "print(x)"
   ]
  },
  {
   "cell_type": "code",
   "execution_count": 30,
   "metadata": {},
   "outputs": [
    {
     "name": "stdout",
     "output_type": "stream",
     "text": [
      "{'fruit': 'banana', 'vegetable': 'brinjal'}\n"
     ]
    }
   ],
   "source": [
    "#18.pop()\n",
    "\n",
    "a.pop(\"car\")\n",
    "print(a)"
   ]
  },
  {
   "cell_type": "code",
   "execution_count": 73,
   "metadata": {},
   "outputs": [
    {
     "name": "stdout",
     "output_type": "stream",
     "text": [
      "white\n",
      "{'car': 'ford', 'fruit': 'apple', 'vegetable': 'brinjal', 'colour': 'white'}\n"
     ]
    }
   ],
   "source": [
    "#19.setdefault()\n",
    "#IF key does not exist insert the key with the specified value\n",
    "\n",
    "x=a.setdefault(\"colour\",\"white\")\n",
    "print(x)\n",
    "print(a)"
   ]
  },
  {
   "cell_type": "code",
   "execution_count": 36,
   "metadata": {},
   "outputs": [
    {
     "name": "stdout",
     "output_type": "stream",
     "text": [
      "{'fruit': 'banana', 'vegetable': 'brinjal', 'colour': 'white', 'car': 'ford'}\n"
     ]
    }
   ],
   "source": [
    "#20.update()\n",
    "#insert an item to the dictionary\n",
    "\n",
    "a.update({\"car\":\"ford\"})\n",
    "print(a)"
   ]
  },
  {
   "cell_type": "code",
   "execution_count": 40,
   "metadata": {},
   "outputs": [
    {
     "name": "stdout",
     "output_type": "stream",
     "text": [
      "Hello world\n"
     ]
    }
   ],
   "source": [
    "#String\n",
    "#21.capitalize()\n",
    "\n",
    "a=\"hello world\"\n",
    "x=a.capitalize()\n",
    "print(x)"
   ]
  },
  {
   "cell_type": "code",
   "execution_count": 42,
   "metadata": {},
   "outputs": [
    {
     "name": "stdout",
     "output_type": "stream",
     "text": [
      "hello world, i am python\n"
     ]
    }
   ],
   "source": [
    "# 22.casefold()\n",
    "#make the string lower case\n",
    "\n",
    "txt=\"Hello World, I am Python\"\n",
    "x=txt.casefold()\n",
    "print(x)"
   ]
  },
  {
   "cell_type": "code",
   "execution_count": 45,
   "metadata": {},
   "outputs": [
    {
     "name": "stdout",
     "output_type": "stream",
     "text": [
      "  hello world  \n"
     ]
    }
   ],
   "source": [
    "#23.center()\n",
    "\n",
    "txt=\"hello world\"\n",
    "x=txt.center(15)\n",
    "print(x)"
   ]
  },
  {
   "cell_type": "code",
   "execution_count": 48,
   "metadata": {},
   "outputs": [
    {
     "name": "stdout",
     "output_type": "stream",
     "text": [
      "2\n"
     ]
    }
   ],
   "source": [
    "#24.count()\n",
    "\n",
    "a=\"i love orange, orange is my favorite fruit\"\n",
    "x=a.count(\"orange\")\n",
    "print(x)"
   ]
  },
  {
   "cell_type": "code",
   "execution_count": 55,
   "metadata": {},
   "outputs": [
    {
     "name": "stdout",
     "output_type": "stream",
     "text": [
      "True\n"
     ]
    }
   ],
   "source": [
    "#25.endswith()\n",
    "#return true if the string endswith\n",
    "\n",
    "txt=\"Hello World!\"\n",
    "x=txt.endswith(\"!\")\n",
    "print(x)"
   ]
  },
  {
   "cell_type": "code",
   "execution_count": 59,
   "metadata": {},
   "outputs": [
    {
     "name": "stdout",
     "output_type": "stream",
     "text": [
      "True\n"
     ]
    }
   ],
   "source": [
    "#check if position 6 to 11 with the phrase World\n",
    "\n",
    "x=txt.endswith(\"World\",6,11)\n",
    "print(x)"
   ]
  },
  {
   "cell_type": "code",
   "execution_count": 61,
   "metadata": {},
   "outputs": [
    {
     "name": "stdout",
     "output_type": "stream",
     "text": [
      "1\n",
      "9\n"
     ]
    }
   ],
   "source": [
    "#26.Find()\n",
    "#returns the position\n",
    "\n",
    "x=txt.find(\"e\")\n",
    "print(x)\n",
    "x=txt.find(\"l\",6,11)\n",
    "print(x)"
   ]
  },
  {
   "cell_type": "code",
   "execution_count": 62,
   "metadata": {},
   "outputs": [
    {
     "name": "stdout",
     "output_type": "stream",
     "text": [
      "True\n"
     ]
    }
   ],
   "source": [
    "#27.isalnum()\n",
    "#Check if the character is alphanumeric\n",
    "\n",
    "txt=\"hello123\"\n",
    "x=txt.isalnum()\n",
    "print(x)"
   ]
  },
  {
   "cell_type": "code",
   "execution_count": 64,
   "metadata": {},
   "outputs": [
    {
     "name": "stdout",
     "output_type": "stream",
     "text": [
      "True\n"
     ]
    }
   ],
   "source": [
    "#28.isdigit()\n",
    "\n",
    "txt=\"3213\"\n",
    "x=txt.isdigit()\n",
    "print(x)"
   ]
  },
  {
   "cell_type": "code",
   "execution_count": 66,
   "metadata": {},
   "outputs": [
    {
     "name": "stdout",
     "output_type": "stream",
     "text": [
      "True\n"
     ]
    }
   ],
   "source": [
    "#29.islower()\n",
    "\n",
    "a=\"hello world\"\n",
    "print(a.islower())"
   ]
  },
  {
   "cell_type": "code",
   "execution_count": 67,
   "metadata": {},
   "outputs": [],
   "source": [
    "#30.join()\n",
    "#join all items in a tuple into a string"
   ]
  },
  {
   "cell_type": "code",
   "execution_count": 68,
   "metadata": {},
   "outputs": [
    {
     "name": "stdout",
     "output_type": "stream",
     "text": [
      "hi hello world\n"
     ]
    }
   ],
   "source": [
    "a=(\"hi\",\"hello\",\"world\")\n",
    "x=\" \".join(a)\n",
    "print(x)"
   ]
  },
  {
   "cell_type": "code",
   "execution_count": null,
   "metadata": {},
   "outputs": [],
   "source": []
  }
 ],
 "metadata": {
  "kernelspec": {
   "display_name": "Python 3",
   "language": "python",
   "name": "python3"
  },
  "language_info": {
   "codemirror_mode": {
    "name": "ipython",
    "version": 3
   },
   "file_extension": ".py",
   "mimetype": "text/x-python",
   "name": "python",
   "nbconvert_exporter": "python",
   "pygments_lexer": "ipython3",
   "version": "3.7.6"
  }
 },
 "nbformat": 4,
 "nbformat_minor": 4
}
