{
 "cells": [
  {
   "cell_type": "code",
   "execution_count": 1,
   "metadata": {},
   "outputs": [
    {
     "name": "stdout",
     "output_type": "stream",
     "text": [
      "Hi,\n",
      "Hello world.\n",
      "This file is for testing purposes.\n",
      "Good Luck!\n"
     ]
    }
   ],
   "source": [
    "#1.open a file \n",
    "\n",
    "a=open(\"file.txt\",\"r\")\n",
    "print(a.read())"
   ]
  },
  {
   "cell_type": "code",
   "execution_count": 3,
   "metadata": {},
   "outputs": [
    {
     "name": "stdout",
     "output_type": "stream",
     "text": [
      "Hi,\n",
      "Hello world.\n",
      "This file is for testing purposes.\n",
      "Good Luck!\n"
     ]
    }
   ],
   "source": [
    "#2.open a file on different location\n",
    "\n",
    "a=open(\"C:\\\\Users\\\\vazti\\\\Desktop\\\\file.txt\",\"r\")\n",
    "print(a.read())"
   ]
  },
  {
   "cell_type": "code",
   "execution_count": 8,
   "metadata": {},
   "outputs": [
    {
     "name": "stdout",
     "output_type": "stream",
     "text": [
      "Hi,\n",
      "Hello\n"
     ]
    }
   ],
   "source": [
    "#3.Read Only Parts of the File\n",
    "\n",
    "a=open(\"file.txt\",\"r\")\n",
    "print(a.read(9))"
   ]
  },
  {
   "cell_type": "code",
   "execution_count": 13,
   "metadata": {},
   "outputs": [
    {
     "name": "stdout",
     "output_type": "stream",
     "text": [
      "Hi,\n",
      "\n",
      "Hello world.\n",
      "\n"
     ]
    }
   ],
   "source": [
    "#4.Readlines\n",
    "\n",
    "a=open(\"file.txt\",\"r\")\n",
    "print(a.readline())\n",
    "print(a.readline())"
   ]
  },
  {
   "cell_type": "code",
   "execution_count": 14,
   "metadata": {},
   "outputs": [
    {
     "name": "stdout",
     "output_type": "stream",
     "text": [
      "Hi,\n",
      "\n",
      "Hello world.\n",
      "\n",
      "This file is for testing purposes.\n",
      "\n",
      "Good Luck!\n"
     ]
    }
   ],
   "source": [
    "#5.Looping through lines of the file\n",
    "\n",
    "a=open(\"file.txt\",\"r\")\n",
    "for x in a:\n",
    "  print(x)"
   ]
  },
  {
   "cell_type": "code",
   "execution_count": 15,
   "metadata": {},
   "outputs": [
    {
     "name": "stdout",
     "output_type": "stream",
     "text": [
      "Hi,\n",
      "\n"
     ]
    }
   ],
   "source": [
    "#6.close files\n",
    "\n",
    "a=open(\"file.txt\",\"r\")\n",
    "print(a.readline())\n",
    "a.close()"
   ]
  },
  {
   "cell_type": "code",
   "execution_count": 19,
   "metadata": {},
   "outputs": [
    {
     "name": "stdout",
     "output_type": "stream",
     "text": [
      "Hi,\n",
      "Hello world.\n",
      "This file is for testing purposes.\n",
      "Good Luck!now tghe file has more contentnow tghe file has more contentnow tghe file has more content\n",
      " now the file has more content\n"
     ]
    }
   ],
   "source": [
    "#7.Write to an existing file\n",
    "\n",
    "# a-append\n",
    "\n",
    "a=open(\"file.txt\",\"a\")\n",
    "a.write(\"\\n now the file has more content\")\n",
    "a.close()\n",
    "\n",
    "a=open(\"file.txt\",\"r\")\n",
    "print(a.read())"
   ]
  },
  {
   "cell_type": "code",
   "execution_count": 20,
   "metadata": {},
   "outputs": [
    {
     "name": "stdout",
     "output_type": "stream",
     "text": [
      "Hi,\n",
      "Hello world\n",
      "This file is for testing purpose\n",
      "Good Luck!\n"
     ]
    }
   ],
   "source": [
    "#8.write \"w\"\n",
    "\n",
    "a=open(\"file.txt\",\"w\")\n",
    "a.write(\"Hi,\\nHello world\\nThis file is for testing purpose\\nGood Luck!\")\n",
    "a.close()\n",
    "\n",
    "a=open(\"file.txt\",\"r\")\n",
    "print(a.read())\n"
   ]
  },
  {
   "cell_type": "code",
   "execution_count": null,
   "metadata": {},
   "outputs": [],
   "source": []
  }
 ],
 "metadata": {
  "kernelspec": {
   "display_name": "Python 3",
   "language": "python",
   "name": "python3"
  },
  "language_info": {
   "codemirror_mode": {
    "name": "ipython",
    "version": 3
   },
   "file_extension": ".py",
   "mimetype": "text/x-python",
   "name": "python",
   "nbconvert_exporter": "python",
   "pygments_lexer": "ipython3",
   "version": "3.7.6"
  }
 },
 "nbformat": 4,
 "nbformat_minor": 4
}
