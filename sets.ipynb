{
 "cells": [
  {
   "cell_type": "code",
   "execution_count": 1,
   "metadata": {},
   "outputs": [
    {
     "name": "stdout",
     "output_type": "stream",
     "text": [
      "3\n"
     ]
    }
   ],
   "source": [
    "#1.len()\n",
    "\n",
    "ex={\"hi\",\"hello\",\"world\"}\n",
    "print(len(ex))"
   ]
  },
  {
   "cell_type": "code",
   "execution_count": 2,
   "metadata": {},
   "outputs": [
    {
     "name": "stdout",
     "output_type": "stream",
     "text": [
      "{'banana', 'watermelon'}\n"
     ]
    }
   ],
   "source": [
    "#2.remove()\n",
    "\n",
    "fruit={\"banana\",\"apple\",\"watermelon\"}\n",
    "fruit.remove(\"apple\")\n",
    "print(fruit)"
   ]
  },
  {
   "cell_type": "code",
   "execution_count": 3,
   "metadata": {},
   "outputs": [
    {
     "name": "stdout",
     "output_type": "stream",
     "text": [
      "banana\n",
      "{'watermelon', 'apple'}\n"
     ]
    }
   ],
   "source": [
    "#3,pop()\n",
    "\n",
    "fruit={\"banana\",\"apple\",\"watermelon\"}\n",
    "a=fruit.pop()\n",
    "\n",
    "print(a)\n",
    "print(fruit)"
   ]
  },
  {
   "cell_type": "code",
   "execution_count": 4,
   "metadata": {},
   "outputs": [
    {
     "name": "stdout",
     "output_type": "stream",
     "text": [
      "set()\n"
     ]
    }
   ],
   "source": [
    "#4.clear()\n",
    "\n",
    "fruit.clear()\n",
    "print(fruit)"
   ]
  },
  {
   "cell_type": "code",
   "execution_count": 5,
   "metadata": {},
   "outputs": [
    {
     "ename": "NameError",
     "evalue": "name 'fruit' is not defined",
     "output_type": "error",
     "traceback": [
      "\u001b[1;31m---------------------------------------------------------------------------\u001b[0m",
      "\u001b[1;31mNameError\u001b[0m                                 Traceback (most recent call last)",
      "\u001b[1;32m<ipython-input-5-2f2d62361517>\u001b[0m in \u001b[0;36m<module>\u001b[1;34m\u001b[0m\n\u001b[0;32m      3\u001b[0m \u001b[1;32mdel\u001b[0m \u001b[0mfruit\u001b[0m\u001b[1;33m\u001b[0m\u001b[1;33m\u001b[0m\u001b[0m\n\u001b[0;32m      4\u001b[0m \u001b[1;33m\u001b[0m\u001b[0m\n\u001b[1;32m----> 5\u001b[1;33m \u001b[0mprint\u001b[0m\u001b[1;33m(\u001b[0m\u001b[0mfruit\u001b[0m\u001b[1;33m)\u001b[0m\u001b[1;33m\u001b[0m\u001b[1;33m\u001b[0m\u001b[0m\n\u001b[0m",
      "\u001b[1;31mNameError\u001b[0m: name 'fruit' is not defined"
     ]
    }
   ],
   "source": [
    "#5.del()\n",
    "\n",
    "del fruit\n",
    "\n",
    "print(fruit)"
   ]
  },
  {
   "cell_type": "code",
   "execution_count": 6,
   "metadata": {},
   "outputs": [
    {
     "name": "stdout",
     "output_type": "stream",
     "text": [
      "{'a', 'e', 'f', 'b', 'c', 'd'}\n"
     ]
    }
   ],
   "source": [
    "#6.union()\n",
    "\n",
    "a = {\"a\", \"b\" , \"c\"}\n",
    "b = {\"d\",\"e\",\"f\"}\n",
    "\n",
    "c= a.union(b)\n",
    "print(c)"
   ]
  },
  {
   "cell_type": "code",
   "execution_count": 7,
   "metadata": {},
   "outputs": [
    {
     "name": "stdout",
     "output_type": "stream",
     "text": [
      "{'a', 'e', 'f', 'b', 'c', 'd'}\n"
     ]
    }
   ],
   "source": [
    "#7.update()\n",
    "\n",
    "a = {\"a\", \"b\" , \"c\"}\n",
    "b = {\"d\",\"e\",\"f\"}\n",
    "a.update(b)\n",
    "print(a)"
   ]
  },
  {
   "cell_type": "code",
   "execution_count": null,
   "metadata": {},
   "outputs": [],
   "source": []
  }
 ],
 "metadata": {
  "kernelspec": {
   "display_name": "Python 3",
   "language": "python",
   "name": "python3"
  },
  "language_info": {
   "codemirror_mode": {
    "name": "ipython",
    "version": 3
   },
   "file_extension": ".py",
   "mimetype": "text/x-python",
   "name": "python",
   "nbconvert_exporter": "python",
   "pygments_lexer": "ipython3",
   "version": "3.7.6"
  }
 },
 "nbformat": 4,
 "nbformat_minor": 4
}
