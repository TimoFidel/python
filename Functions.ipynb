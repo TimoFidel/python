{
 "cells": [
  {
   "cell_type": "code",
   "execution_count": 1,
   "metadata": {},
   "outputs": [],
   "source": [
    "#1.creating a function\n",
    "\n",
    "def PrintWorld():\n",
    "    print(\"hello world\")"
   ]
  },
  {
   "cell_type": "code",
   "execution_count": 2,
   "metadata": {},
   "outputs": [
    {
     "name": "stdout",
     "output_type": "stream",
     "text": [
      "hello world\n"
     ]
    }
   ],
   "source": [
    "#2.calling a finction\n",
    "\n",
    "PrintWorld()"
   ]
  },
  {
   "cell_type": "code",
   "execution_count": 3,
   "metadata": {},
   "outputs": [
    {
     "name": "stdout",
     "output_type": "stream",
     "text": [
      "Timo Fidel N\n"
     ]
    }
   ],
   "source": [
    "#3. Arguments\n",
    "\n",
    "def Details(fname,lname):\n",
    "    print(fname+\" \"+lname)\n",
    "\n",
    "Details(\"Timo Fidel\",\"N\")"
   ]
  },
  {
   "cell_type": "code",
   "execution_count": 5,
   "metadata": {},
   "outputs": [
    {
     "name": "stdout",
     "output_type": "stream",
     "text": [
      "My name is Yogi\n"
     ]
    }
   ],
   "source": [
    "#4.Arbitrary Argument\n",
    "\n",
    "def Details(*name):\n",
    "    print(\"My name is \"+name[2])\n",
    "    \n",
    "Details(\"Siva\",\"Yuva\",\"Yogi\",\"Sriram\")"
   ]
  },
  {
   "cell_type": "code",
   "execution_count": 7,
   "metadata": {},
   "outputs": [
    {
     "name": "stdout",
     "output_type": "stream",
     "text": [
      "My name is siva\n"
     ]
    }
   ],
   "source": [
    "#5.Keyword argument\n",
    "\n",
    "def Details(name2,name1,name3):\n",
    "    print(\"My name is \"+name1)\n",
    "    \n",
    "Details(name1=\"siva\",name2=\"yuva\",name3=\"yogi\")"
   ]
  },
  {
   "cell_type": "code",
   "execution_count": 12,
   "metadata": {},
   "outputs": [
    {
     "name": "stdout",
     "output_type": "stream",
     "text": [
      "His last name is Refsnes\n"
     ]
    }
   ],
   "source": [
    "# 6.Arbiratary keyword argument\n",
    "\n",
    "def my_function(**kid):\n",
    "  print(\"His last name is \" + kid[\"lname\"])\n",
    "\n",
    "my_function(fname = \"Tobias\", lname = \"Refsnes\")"
   ]
  },
  {
   "cell_type": "code",
   "execution_count": 13,
   "metadata": {},
   "outputs": [
    {
     "name": "stdout",
     "output_type": "stream",
     "text": [
      "hi, Timo\n"
     ]
    }
   ],
   "source": [
    "#7.Default parameter\n",
    "\n",
    "def Details(name=\"Timo\"):\n",
    "    print(\"hi, \"+name)\n",
    "    \n",
    "Details()"
   ]
  },
  {
   "cell_type": "code",
   "execution_count": null,
   "metadata": {},
   "outputs": [],
   "source": [
    "#recursion\n",
    "\n",
    "def fact(num):\n",
    "    if(num==0 or num==1):\n",
    "        return 1\n",
    "    else:\n",
    "        return n*fact(num-1)\n",
    "    \n"
   ]
  }
 ],
 "metadata": {
  "kernelspec": {
   "display_name": "Python 3",
   "language": "python",
   "name": "python3"
  },
  "language_info": {
   "codemirror_mode": {
    "name": "ipython",
    "version": 3
   },
   "file_extension": ".py",
   "mimetype": "text/x-python",
   "name": "python",
   "nbconvert_exporter": "python",
   "pygments_lexer": "ipython3",
   "version": "3.7.6"
  }
 },
 "nbformat": 4,
 "nbformat_minor": 4
}
